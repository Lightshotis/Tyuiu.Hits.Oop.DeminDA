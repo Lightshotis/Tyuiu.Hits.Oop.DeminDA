{
 "cells": [
  {
   "cell_type": "markdown",
   "metadata": {},
   "source": [
    "<h1 style=\"color:DodgerBlue\">Индивидальный проект</h1>"
   ]
  },
  {
   "cell_type": "markdown",
   "metadata": {},
   "source": [
    "<h2 style=\"color:DodgerBlue\">Название проекта:</h2>\n",
    "\n",
    "----\n",
    "\n",
    "### Вариант задания \n"
   ]
  },
  {
   "cell_type": "markdown",
   "metadata": {},
   "source": [
    "<h2 style=\"color:DodgerBlue\">Описание проекта:</h2>\n",
    "\n",
    "----\n",
    "\n",
    "[ваш текст]\n",
    "\n",
    "#### Дополнительное задание\n",
    "Добавьте к сущестующим классам (базовыму и производным 3-4 атрибута и метода) исользуйтие в проекте коллекции, делегаты, события.\n"
   ]
  },
  {
   "cell_type": "markdown",
   "metadata": {},
   "source": [
    "<h2 style=\"color:DodgerBlue\">Реализация:</h2>\n",
    "\n",
    "----"
   ]
  },
  {
   "cell_type": "code",
   "execution_count": null,
   "metadata": {
    "dotnet_interactive": {
     "language": "csharp"
    },
    "polyglot_notebook": {
     "kernelName": "csharp"
    }
   },
   "outputs": [
    {
     "name": "stdout",
     "output_type": "stream",
     "text": [
      "Событие: Добавлена новая книга: 1984\n",
      "Событие: Добавлена новая книга: Чистый код\n",
      "Событие: Добавлена новая книга: Война и Мир\n",
      "\n",
      "Каталог библиотеки:\n",
      "Название: 1984, Автор: Джордж Оруэлл, Год выпуска: 1949, Жанр: Антиутопия, Доступна: Да\n",
      "Название: Чистый код, Автор: Роберт Мартин, Год выпуска: 2008, Жанр: Программирование, Доступна: Да\n",
      "Размер файла: 5,6 МБ, Формат: PDF\n",
      "Название: Война и Мир, Автор: Лев Толстой, Год выпуска: 1865, Жанр: Роман эпопея, Доступна: Да\n",
      "Длительность: 2000 минут, Читает: Денис Дёмин\n",
      "Книга '1984' взята.\n",
      "Книга '1984' возвращена.\n",
      "Скачивание книги 'Чистый код' в формате PDF. Размер файла: 5,6 МБ.\n",
      "Воспроизведение отрывка из книги 'Война и Мир', читает Денис Дёмин.\n"
     ]
    }
   ],
   "source": [
    "using System;\n",
    "using System.Collections.Generic;\n",
    "\n",
    "\n",
    "    // Базовый класс\n",
    "    public class Book\n",
    "    {\n",
    "        public string Title { get; set; }\n",
    "        public string Author { get; set; }\n",
    "        public int PublicationYear { get; set; }\n",
    "        public bool IsAvailable { get; set; } = true;\n",
    "\n",
    "        // Новый атрибут\n",
    "        public string Genre { get; set; }\n",
    "\n",
    "        // Методы\n",
    "        public virtual void DisplayInfo()\n",
    "        {\n",
    "            Console.WriteLine($\"Название: {Title}, Автор: {Author}, Год выпуска: {PublicationYear}, Жанр: {Genre}, Доступна: {(IsAvailable ? \"Да\" : \"Нет\")}\");\n",
    "        }\n",
    "\n",
    "        public void Borrow()\n",
    "        {\n",
    "            if (IsAvailable)\n",
    "            {\n",
    "                IsAvailable = false;\n",
    "                Console.WriteLine($\"Книга '{Title}' взята.\");\n",
    "            }\n",
    "            else\n",
    "            {\n",
    "                Console.WriteLine($\"Книга '{Title}' недоступна.\");\n",
    "            }\n",
    "        }\n",
    "\n",
    "        public void Return()\n",
    "        {\n",
    "            IsAvailable = true;\n",
    "            Console.WriteLine($\"Книга '{Title}' возвращена.\");\n",
    "        }\n",
    "    }\n",
    "\n",
    "    // Производный класс\n",
    "    public class DigitalBook : Book\n",
    "    {\n",
    "        public double FileSizeMB { get; set; } // Новый атрибут\n",
    "        public string Format { get; set; } // Новый атрибут\n",
    "\n",
    "        // Новый метод\n",
    "        public void Download()\n",
    "        {\n",
    "            Console.WriteLine($\"Скачивание книги '{Title}' в формате {Format}. Размер файла: {FileSizeMB} МБ.\");\n",
    "        }\n",
    "\n",
    "        public override void DisplayInfo()\n",
    "        {\n",
    "            base.DisplayInfo();\n",
    "            Console.WriteLine($\"Размер файла: {FileSizeMB} МБ, Формат: {Format}\");\n",
    "        }\n",
    "    }\n",
    "\n",
    "    // Производный класс\n",
    "    public class AudioBook : Book\n",
    "    {\n",
    "        public int DurationMinutes { get; set; } // Новый атрибут\n",
    "        public string Narrator { get; set; } // Новый атрибут\n",
    "\n",
    "        // Новый метод\n",
    "        public void PlaySample()\n",
    "        {\n",
    "            Console.WriteLine($\"Воспроизведение отрывка из книги '{Title}', читает {Narrator}.\");\n",
    "        }\n",
    "\n",
    "        public override void DisplayInfo()\n",
    "        {\n",
    "            base.DisplayInfo();\n",
    "            Console.WriteLine($\"Длительность: {DurationMinutes} минут, Читает: {Narrator}\");\n",
    "        }\n",
    "    }\n",
    "\n",
    "    // Менеджер библиотеки с использованием коллекций, событий и делегатов\n",
    "    public class LibraryManager\n",
    "    {\n",
    "        private List<Book> _books = new List<Book>();\n",
    "\n",
    "        // Делегат и событие\n",
    "        public delegate void BookEventHandler(string message);\n",
    "        public event BookEventHandler BookAdded;\n",
    "\n",
    "        public void AddBook(Book book)\n",
    "        {\n",
    "            _books.Add(book);\n",
    "            BookAdded?.Invoke($\"Добавлена новая книга: {book.Title}\");\n",
    "        }\n",
    "\n",
    "        public void ListBooks()\n",
    "        {\n",
    "            Console.WriteLine(\"\\nКаталог библиотеки:\");\n",
    "            foreach (var book in _books)\n",
    "            {\n",
    "                book.DisplayInfo();\n",
    "            }\n",
    "        }\n",
    "    }\n",
    "\n",
    "    // Тестирование программы\n",
    "   LibraryManager library = new LibraryManager();\n",
    "\n",
    "            // Подписка на событие\n",
    "            library.BookAdded += message => Console.WriteLine($\"Событие: {message}\");\n",
    "\n",
    "            // Добавление книг\n",
    "            var book1 = new Book { Title = \"1984\", Author = \"Джордж Оруэлл\", PublicationYear = 1949, Genre = \"Антиутопия\" };\n",
    "            var digitalBook = new DigitalBook { Title = \"Чистый код\", Author = \"Роберт Мартин\", PublicationYear = 2008, Genre = \"Программирование\", FileSizeMB = 5.6, Format = \"PDF\" };\n",
    "            var audioBook = new AudioBook { Title = \"Война и Мир\", Author = \"Лев Толстой\", PublicationYear = 1865, Genre = \"Роман эпопея\", DurationMinutes = 2000, Narrator = \"Денис Дёмин\" };\n",
    "\n",
    "            library.AddBook(book1);\n",
    "            library.AddBook(digitalBook);\n",
    "            library.AddBook(audioBook);\n",
    "\n",
    "            // Вывод каталога книг\n",
    "            library.ListBooks();\n",
    "\n",
    "            // Тестирование методов\n",
    "            book1.Borrow();\n",
    "            book1.Return();\n",
    "            digitalBook.Download();\n",
    "            audioBook.PlaySample();\n",
    "        \n",
    "    \n",
    "\n"
   ]
  }
 ],
 "metadata": {
  "kernelspec": {
   "display_name": ".NET (C#)",
   "language": "C#",
   "name": ".net-csharp"
  },
  "polyglot_notebook": {
   "kernelInfo": {
    "defaultKernelName": "csharp",
    "items": [
     {
      "aliases": [],
      "languageName": "csharp",
      "name": "csharp"
     }
    ]
   }
  }
 },
 "nbformat": 4,
 "nbformat_minor": 2
}

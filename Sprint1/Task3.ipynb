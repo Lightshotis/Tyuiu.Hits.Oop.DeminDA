{
 "cells": [
  {
   "cell_type": "markdown",
   "metadata": {},
   "source": [
    "<h1 style=\"color:DodgerBlue\">Индивидальный проект</h1>"
   ]
  },
  {
   "cell_type": "markdown",
   "metadata": {},
   "source": [
    "<h2 style=\"color:DodgerBlue\">Название проекта:</h2>\n",
    "\n",
    "----\n",
    "\n",
    "### Вариант задания  5\n",
    "\n"
   ]
  },
  {
   "cell_type": "markdown",
   "metadata": {},
   "source": [
    "<h2 style=\"color:DodgerBlue\">Описание проекта:</h2>\n",
    "\n",
    "----\n",
    "Для добавления геттеров и сеттеров к существующим классам и реализации взаимодействия между объектами в этом примере я добавил свойства для полей классов и обеспечил взаимодействие между объектами через метод, который будет принимать другой объект класса как параметр.\n",
    "\n",
    "#### Дополнительное задание\n",
    "Добавьте к сущестующим классам конструктора классов с использованием гетторов и сетторов и реализуйте взаимодействие объектов между собой"
   ]
  },
  {
   "cell_type": "markdown",
   "metadata": {},
   "source": [
    "<h2 style=\"color:DodgerBlue\">Реализация:</h2>\n",
    "\n",
    "----"
   ]
  },
  {
   "cell_type": "code",
   "execution_count": 1,
   "metadata": {
    "dotnet_interactive": {
     "language": "csharp"
    },
    "polyglot_notebook": {
     "kernelName": "csharp"
    }
   },
   "outputs": [],
   "source": [
    "class Book\n",
    "{\n",
    "    // Свойства с геттерами и сеттерами\n",
    "    public string Title { get; set; }\n",
    "    public string Author { get; set; }\n",
    "    public int YearOfPublication { get; set; }\n",
    "\n",
    "    // Конструктор класса Book\n",
    "    public Book(string title, string author, int yearOfPublication)\n",
    "    {\n",
    "        Title = title;\n",
    "        Author = author;\n",
    "        YearOfPublication = yearOfPublication;\n",
    "    }\n",
    "\n",
    "    // Метод для получения информации о книге\n",
    "    public virtual string GetInfo()\n",
    "    {\n",
    "        return $\"Название: {Title}\\nАвтор: {Author}\\nГод издания: {YearOfPublication}\";\n",
    "    }\n",
    "\n",
    "    // Метод для чтения книги\n",
    "    public virtual string Read()\n",
    "    {\n",
    "        return \"Вы прочитали книгу.\";\n",
    "    }\n",
    "\n",
    "    // Метод для взятия книги\n",
    "    public virtual string Borrow()\n",
    "    {\n",
    "        return \"Вы взяли книгу.\";\n",
    "    }\n",
    "\n",
    "    // Метод для сравнения с другим объектом книги\n",
    "    public string Compare(Book otherBook)\n",
    "    {\n",
    "        return $\"Вы сравниваете книгу {this.Title} с книгой {otherBook.Title}.\";\n",
    "    }\n",
    "}\n",
    "\n",
    "class TextBook : Book\n",
    "{\n",
    "    // Свойство с геттером и сеттером\n",
    "    public string Subject { get; set; }\n",
    "\n",
    "    // Конструктор класса TextBook\n",
    "    public TextBook(string title, string author, int yearOfPublication, string subject)\n",
    "        : base(title, author, yearOfPublication)\n",
    "    {\n",
    "        Subject = subject;\n",
    "    }\n",
    "\n",
    "    // Переопределенный метод чтения книги\n",
    "    public override string Read()\n",
    "    {\n",
    "        return $\"Вы читаете учебник по {Subject}.\";\n",
    "    }\n",
    "\n",
    "    // Метод для сравнения предметов с другим учебником\n",
    "    public string CompareSubjects(TextBook otherTextBook)\n",
    "    {\n",
    "        return $\"Вы сравниваете предмет {this.Subject} с предметом {otherTextBook.Subject}.\";\n",
    "    }\n",
    "}\n",
    "\n",
    "class Fiction : Book\n",
    "{\n",
    "    // Свойство с геттером и сеттером\n",
    "    public string Genre { get; set; }\n",
    "\n",
    "    // Конструктор класса Fiction\n",
    "    public Fiction(string title, string author, int yearOfPublication, string genre)\n",
    "        : base(title, author, yearOfPublication)\n",
    "    {\n",
    "        Genre = genre;\n",
    "    }\n",
    "\n",
    "    // Переопределенный метод взятия книги\n",
    "    public override string Borrow()\n",
    "    {\n",
    "        return $\"Вы взяли {Genre} книгу.\";\n",
    "    }\n",
    "}\n",
    "\n",
    "class ScientificLiterature : Book\n",
    "{\n",
    "    // Свойство с геттером и сеттером\n",
    "    public string FieldOfScience { get; set; }\n",
    "\n",
    "    // Конструктор класса ScientificLiterature\n",
    "    public ScientificLiterature(string title, string author, int yearOfPublication, string fieldOfScience)\n",
    "        : base(title, author, yearOfPublication)\n",
    "    {\n",
    "        FieldOfScience = fieldOfScience;\n",
    "    }\n",
    "\n",
    "    // Переопределенный метод получения информации\n",
    "    public override string GetInfo()\n",
    "    {\n",
    "        return $\"Название: {Title}\\nАвтор: {Author}\\nГод издания: {YearOfPublication}\\nОбласть науки: {FieldOfScience}\";\n",
    "    }\n",
    "}\n",
    "\n",
    "// Основной код для сравнения и вывода в консоль\n",
    "TextBook mathBook = new TextBook(\"Математика для инженеров\", \"Джон Доу\", 2020, \"Математика\");\n",
    "TextBook physicsBook = new TextBook(\"Физика для ученых\", \"Джейн Смит\", 2021, \"Физика\");\n",
    "\n",
    "Console.WriteLine(mathBook.CompareSubjects(physicsBook)); // Сравнение по предмету\n",
    "\n",
    "Fiction novel = new Fiction(\"Тайна старого дома\", \"Алиса Джонсон\", 2018, \"Детектив\");\n",
    "ScientificLiterature scienceBook = new ScientificLiterature(\"Квантовая механика\", \"Альберт Эйнштейн\", 1925, \"Физика\");\n",
    "\n",
    "Console.WriteLine(novel.Compare(scienceBook)); // Сравнение книг\n",
    "\n"
   ]
  }
 ],
 "metadata": {
  "kernelspec": {
   "display_name": ".NET (C#)",
   "language": "C#",
   "name": ".net-csharp"
  },
  "polyglot_notebook": {
   "kernelInfo": {
    "defaultKernelName": "csharp",
    "items": [
     {
      "aliases": [],
      "languageName": "csharp",
      "name": "csharp"
     }
    ]
   }
  }
 },
 "nbformat": 4,
 "nbformat_minor": 2
}

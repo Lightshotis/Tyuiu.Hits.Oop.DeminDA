{
 "cells": [
  {
   "cell_type": "markdown",
   "metadata": {},
   "source": [
    "<h1 style=\"color:DodgerBlue\">Индивидальный проект</h1>"
   ]
  },
  {
   "cell_type": "markdown",
   "metadata": {},
   "source": [
    "<h2 style=\"color:DodgerBlue\">Название проекта:</h2>\n",
    "\n",
    "----\n",
    "\n",
    "### Вариант задания 5\n"
   ]
  },
  {
   "cell_type": "markdown",
   "metadata": {},
   "source": [
    "<h2 style=\"color:DodgerBlue\">Описание проекта:</h2>\n",
    "\n",
    "----\n",
    "Создать базовый класс Book в C#, который будет представлять информацию о книгах. На основе этого класса разработать 2-3 производных класса, демонстрирующих принципы наследования и полиморфизма. В каждом из классов должны быть реализованы новые атрибуты и методы, а также переопределены некоторые методы базового класса для демонстрации полиморфизма.\n",
    "Требования к базовому классу Book:\n",
    "Атрибуты: Название (Title), Автор (Author), Год издания (YearOfPublication).\n",
    "•\n",
    "Методы:\n",
    "o\n",
    "GetInfo(): метод для получения информации о книге в виде строки.\n",
    "o\n",
    "Read(): метод для вывода сообщения о чтении книги.\n",
    "o\n",
    "Borrow(): метод для вывода сообщения о выдаче книги на чтение.\n",
    "Требования к производным классам:\n",
    "1.\n",
    "Учебник (Textbook): Должен содержать дополнительные атрибуты, такие как Предмет (Subject). Метод Read() должен быть переопределен для добавления информации о предмете при чтении учебника.\n",
    "2.\n",
    "Художественная литература (Fiction): Должен содержать дополнительные атрибуты, такие как Жанр (Genre). Метод Borrow() должен быть переопределен для добавления информации о жанре при выдаче книги на чтение.\n",
    "3.\n",
    "Научная литература (ScientificLiterature) (если требуется третий класс): Должен содержать дополнительные атрибуты, такие как Область науки (FieldOfScience). Метод GetInfo() должен быть переопределен для включения информации об области науки в описании книги.\n"
   ]
  },
  {
   "cell_type": "markdown",
   "metadata": {},
   "source": [
    "<h2 style=\"color:DodgerBlue\">Реализация:</h2>\n",
    "\n",
    "----"
   ]
  },
  {
   "cell_type": "code",
   "execution_count": 2,
   "metadata": {
    "dotnet_interactive": {
     "language": "csharp"
    },
    "polyglot_notebook": {
     "kernelName": "csharp"
    }
   },
   "outputs": [
    {
     "name": "stdout",
     "output_type": "stream",
     "text": [
      "Название: Обычная книга\n",
      "Автор: Джон Доу\n",
      "Год издания: 2000\n",
      "Вы читаете книгу.\n",
      "Вы взяли книгу.\n",
      "\n",
      "Название: Математика 101\n",
      "Автор: Джейн Смит\n",
      "Год издания: 2015\n",
      "Вы читаете учебник по Математика.\n",
      "Вы взяли книгу.\n",
      "\n",
      "Название: Детективный роман\n",
      "Автор: Агата Кристи\n",
      "Год издания: 1934\n",
      "Вы читаете книгу.\n",
      "Вы взяли Детектив книгу.\n",
      "\n",
      "Название: Вселенная\n",
      "Автор: Альберт Эйнштейн\n",
      "Год издания: 1923\n",
      "Область науки: Физика\n",
      "Вы читаете книгу.\n",
      "Вы взяли книгу.\n"
     ]
    }
   ],
   "source": [
    "class Book\n",
    "{\n",
    "    protected string Title;\n",
    "    protected string Author;\n",
    "    protected int YearOfPublication;\n",
    "\n",
    "    public Book(string Title, string Author, int YearOfPublication)\n",
    "    {\n",
    "        this.Title = Title;\n",
    "        this.Author = Author;\n",
    "        this.YearOfPublication = YearOfPublication;\n",
    "    }\n",
    "\n",
    "    public virtual string GetInfo()\n",
    "    {\n",
    "        return $\"Название: {Title}\\nАвтор: {Author}\\nГод издания: {YearOfPublication}\";\n",
    "    }\n",
    "\n",
    "    public virtual string Read()\n",
    "    {\n",
    "        return \"Вы читаете книгу.\";\n",
    "    }\n",
    "\n",
    "    public virtual string Borrow()\n",
    "    {\n",
    "        return \"Вы взяли книгу.\";\n",
    "    }\n",
    "}\n",
    "\n",
    "class TextBook : Book\n",
    "{\n",
    "    protected string Subject;\n",
    "\n",
    "    public TextBook(string title, string author, int yearOfPublication, string subject)\n",
    "        : base(title, author, yearOfPublication)\n",
    "    {\n",
    "        Subject = subject;\n",
    "    }\n",
    "\n",
    "    public override string Read()\n",
    "    {\n",
    "        return $\"Вы читаете учебник по {Subject}.\";\n",
    "    }\n",
    "}\n",
    "\n",
    "class Fiction : Book\n",
    "{\n",
    "    protected string Genre;\n",
    "\n",
    "    public Fiction(string title, string author, int yearOfPublication, string genre)\n",
    "        : base(title, author, yearOfPublication)\n",
    "    {\n",
    "        Genre = genre;\n",
    "    }\n",
    "\n",
    "    public override string Borrow()\n",
    "    {\n",
    "        return $\"Вы взяли {Genre} книгу.\";\n",
    "    }\n",
    "}\n",
    "\n",
    "class ScientificLiterature : Book\n",
    "{\n",
    "    protected string FieldOfScience;\n",
    "\n",
    "    public ScientificLiterature(string title, string author, int yearOfPublication, string fieldOfScience)\n",
    "        : base(title, author, yearOfPublication)\n",
    "    {\n",
    "        FieldOfScience = fieldOfScience;\n",
    "    }\n",
    "\n",
    "    public override string GetInfo()\n",
    "    {\n",
    "        return $\"Название: {Title}\\nАвтор: {Author}\\nГод издания: {YearOfPublication}\\nОбласть науки: {FieldOfScience}\";\n",
    "    }\n",
    "}\n",
    "\n",
    "\n",
    "        // Создаем объект базового класса Book\n",
    "        Book genericBook = new Book(\"Обычная книга\", \"Джон Доу\", 2000);\n",
    "        Console.WriteLine(genericBook.GetInfo());\n",
    "        Console.WriteLine(genericBook.Read());\n",
    "        Console.WriteLine(genericBook.Borrow());\n",
    "\n",
    "        Console.WriteLine(); \n",
    "\n",
    "        // Создаем объект класса TextBook\n",
    "        TextBook mathTextbook = new TextBook(\"Математика 101\", \"Джейн Смит\", 2015, \"Математика\");\n",
    "        Console.WriteLine(mathTextbook.GetInfo());\n",
    "        Console.WriteLine(mathTextbook.Read());\n",
    "        Console.WriteLine(mathTextbook.Borrow());\n",
    "\n",
    "        Console.WriteLine(); \n",
    "\n",
    "        // Создаем объект класса Fiction\n",
    "        Fiction mysteryFiction = new Fiction(\"Детективный роман\", \"Агата Кристи\", 1934, \"Детектив\");\n",
    "        Console.WriteLine(mysteryFiction.GetInfo());\n",
    "        Console.WriteLine(mysteryFiction.Read());\n",
    "        Console.WriteLine(mysteryFiction.Borrow());\n",
    "\n",
    "        Console.WriteLine();\n",
    "\n",
    "        // Создаем объект класса ScientificLiterature\n",
    "        ScientificLiterature physicsBook = new ScientificLiterature(\"Вселенная\", \"Альберт Эйнштейн\", 1923, \"Физика\");\n",
    "        Console.WriteLine(physicsBook.GetInfo());\n",
    "        Console.WriteLine(physicsBook.Read());\n",
    "        Console.WriteLine(physicsBook.Borrow());\n",
    "\n",
    "\n"
   ]
  }
 ],
 "metadata": {
  "kernelspec": {
   "display_name": ".NET (C#)",
   "language": "C#",
   "name": ".net-csharp"
  },
  "polyglot_notebook": {
   "kernelInfo": {
    "defaultKernelName": "csharp",
    "items": [
     {
      "aliases": [],
      "languageName": "csharp",
      "name": "csharp"
     }
    ]
   }
  }
 },
 "nbformat": 4,
 "nbformat_minor": 2
}

{
 "cells": [
  {
   "cell_type": "markdown",
   "metadata": {},
   "source": [
    "<h1 style=\"color:DodgerBlue\">Индивидальный проект</h1>"
   ]
  },
  {
   "cell_type": "markdown",
   "metadata": {},
   "source": [
    "<h2 style=\"color:DodgerBlue\">Название проекта:</h2>\n",
    "\n",
    "----\n",
    "\n",
    "### Вариант задания 5\n"
   ]
  },
  {
   "cell_type": "markdown",
   "metadata": {},
   "source": [
    "<h2 style=\"color:DodgerBlue\">Описание проекта:</h2>\n",
    "\n",
    "----\n",
    "Создать базовый класс Book в C#, который будет представлять информацию о книгах. На основе этого класса разработать 2-3 производных класса, демонстрирующих принципы наследования и полиморфизма. В каждом из классов должны быть реализованы новые атрибуты и методы, а также переопределены некоторые методы базового класса для демонстрации полиморфизма.\n",
    "Требования к базовому классу Book:\n",
    "Атрибуты: Название (Title), Автор (Author), Год издания (YearOfPublication).\n",
    "•\n",
    "Методы:\n",
    "o\n",
    "GetInfo(): метод для получения информации о книге в виде строки.\n",
    "o\n",
    "Read(): метод для вывода сообщения о чтении книги.\n",
    "o\n",
    "Borrow(): метод для вывода сообщения о выдаче книги на чтение.\n",
    "Требования к производным классам:\n",
    "1.\n",
    "Учебник (Textbook): Должен содержать дополнительные атрибуты, такие как Предмет (Subject). Метод Read() должен быть переопределен для добавления информации о предмете при чтении учебника.\n",
    "2.\n",
    "Художественная литература (Fiction): Должен содержать дополнительные атрибуты, такие как Жанр (Genre). Метод Borrow() должен быть переопределен для добавления информации о жанре при выдаче книги на чтение.\n",
    "3.\n",
    "Научная литература (ScientificLiterature) (если требуется третий класс): Должен содержать дополнительные атрибуты, такие как Область науки (FieldOfScience). Метод GetInfo() должен быть переопределен для включения информации об области науки в описании книги.\n"
   ]
  },
  {
   "cell_type": "markdown",
   "metadata": {},
   "source": [
    "<h2 style=\"color:DodgerBlue\">Реализация:</h2>\n",
    "\n",
    "----"
   ]
  },
  {
   "cell_type": "code",
   "execution_count": 2,
   "metadata": {
    "dotnet_interactive": {
     "language": "csharp"
    },
    "polyglot_notebook": {
     "kernelName": "csharp"
    }
   },
   "outputs": [],
   "source": [
    "class Book\n",
    "{\n",
    "    protected string Title;\n",
    "    protected string Author;\n",
    "    protected int YearOfPublication;\n",
    "\n",
    "    public Book(string Title, string Author, int YearOfPublication)\n",
    "    {\n",
    "        this.Title = Title;\n",
    "        this.Author = Author;\n",
    "        this.YearOfPublication = YearOfPublication;\n",
    "    }\n",
    "\n",
    "    public virtual string GetInfo()\n",
    "    {\n",
    "        return $\"Title: {Title}\\nAuthor: {Author}\\nYear of publication: {YearOfPublication}\";\n",
    "    }\n",
    "\n",
    "    public virtual string Read()\n",
    "    {\n",
    "        return \"You read the book.\";\n",
    "    }\n",
    "\n",
    "    public virtual string Borrow()\n",
    "    {\n",
    "        return \"You borrowed the book.\";\n",
    "    }\n",
    "}\n",
    "\n",
    "class TextBook : Book\n",
    "{\n",
    "    protected string Subject;\n",
    "\n",
    "    public TextBook(string title, string author, int yearOfPublication, string subject)\n",
    "        : base(title, author, yearOfPublication)\n",
    "    {\n",
    "        Subject = subject;\n",
    "    }\n",
    "\n",
    "    public override string Read()\n",
    "    {\n",
    "        return $\"You read the textbook about {Subject}.\";\n",
    "    }\n",
    "}\n",
    "\n",
    "class Fiction : Book\n",
    "{\n",
    "    protected string Genre;\n",
    "\n",
    "    public Fiction(string title, string author, int yearOfPublication, string genre)\n",
    "        : base(title, author, yearOfPublication)\n",
    "    {\n",
    "        Genre = genre;\n",
    "    }\n",
    "\n",
    "    public override string Borrow()\n",
    "    {\n",
    "        return $\"You borrowed the {Genre} book.\";\n",
    "    }\n",
    "}\n",
    "\n",
    "class ScientificLiterature : Book\n",
    "{\n",
    "    protected string FieldOfScience;\n",
    "\n",
    "    public ScientificLiterature(string title, string author, int yearOfPublication, string fieldOfScience)\n",
    "        : base(title, author, yearOfPublication)\n",
    "    {\n",
    "        FieldOfScience = fieldOfScience;\n",
    "    }\n",
    "\n",
    "    public override string GetInfo()\n",
    "    {\n",
    "        return $\"Title: {Title}\\nAuthor: {Author}\\nYear of publication: {YearOfPublication}\\nField Of Science: {FieldOfScience}\";\n",
    "    }\n",
    "}\n"
   ]
  }
 ],
 "metadata": {
  "kernelspec": {
   "display_name": ".NET (C#)",
   "language": "C#",
   "name": ".net-csharp"
  },
  "polyglot_notebook": {
   "kernelInfo": {
    "defaultKernelName": "csharp",
    "items": [
     {
      "aliases": [],
      "languageName": "csharp",
      "name": "csharp"
     }
    ]
   }
  }
 },
 "nbformat": 4,
 "nbformat_minor": 2
}
